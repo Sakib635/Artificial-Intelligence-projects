{
  "nbformat": 4,
  "nbformat_minor": 0,
  "metadata": {
    "colab": {
      "name": "Lab07(Decision Tree & Logistic Regression).ipynb",
      "provenance": [],
      "collapsed_sections": [],
      "mount_file_id": "1rBH778YPBRUiMPJolM7AenGcfsM2Z980",
      "authorship_tag": "ABX9TyMYVYSwJg6E5rGCIqaUx2tO",
      "include_colab_link": true
    },
    "kernelspec": {
      "name": "python3",
      "display_name": "Python 3"
    },
    "language_info": {
      "name": "python"
    }
  },
  "cells": [
    {
      "cell_type": "markdown",
      "metadata": {
        "id": "view-in-github",
        "colab_type": "text"
      },
      "source": [
        "<a href=\"https://colab.research.google.com/github/Sakib635/Artificial-Intelligence-projects/blob/main/Lab07(Decision_Tree_%26_Logistic_Regression).ipynb\" target=\"_parent\"><img src=\"https://colab.research.google.com/assets/colab-badge.svg\" alt=\"Open In Colab\"/></a>"
      ]
    },
    {
      "cell_type": "code",
      "metadata": {
        "id": "6E4ZkxAXUV-K"
      },
      "source": [
        "import pandas as pd\n",
        "import numpy as np\n",
        "from sklearn.impute import SimpleImputer\n",
        "from sklearn.preprocessing import LabelEncoder\n",
        "\n",
        "#data-preprocessing\n",
        "\n",
        "breast_cancer=pd.read_csv('/content/drive/MyDrive/breast cancer classification dataset (1).csv')\n",
        "\n",
        "\n",
        "impute = SimpleImputer(missing_values=np.nan, strategy='mean')\n",
        "impute.fit(breast_cancer[['radius_mean']])\n",
        "breast_cancer['radius_mean'] = impute.transform(breast_cancer[['radius_mean']])\n",
        "\n",
        "impute = SimpleImputer(missing_values=np.nan, strategy='mean')\n",
        "impute.fit(breast_cancer[['fractal_dimension_worst']])\n",
        "breast_cancer['fractal_dimension_worst'] = impute.transform(breast_cancer[['fractal_dimension_worst']])\n",
        "\n",
        "enc = LabelEncoder()\n",
        "\n",
        "breast_cancer['diagnosis'] = enc.fit_transform(breast_cancer['diagnosis'])\n",
        "\n",
        "breast_cancer = breast_cancer.drop(['id','Unnamed: 32'], axis = 1)\n",
        "breast_cancer.head()\n"
      ],
      "execution_count": null,
      "outputs": []
    },
    {
      "cell_type": "code",
      "metadata": {
        "id": "sZBeDRxcYq1E"
      },
      "source": [
        "\n",
        "\n",
        "#split dataset in features and target variable\n",
        "feature_cols = ['radius_mean', 'texture_mean', 'perimeter_mean', 'area_mean','smoothness_mean','compactness_mean','concavity_mean','concave points_mean','symmetry_mean','fractal_dimension_mean','radius_se','texture_se','perimeter_se','area_se','smoothness_se','compactness_se','concavity_se','concave points_se','symmetry_se'\t,'fractal_dimension_se','radius_worst','texture_worst','perimeter_worst','area_worst','smoothness_worst','compactness_worst','concavity_worst','concave points_worst','symmetry_worst','fractal_dimension_worst']\n",
        "X = breast_cancer[feature_cols] # Features\n",
        "y = breast_cancer.diagnosis # Target variable\n"
      ],
      "execution_count": null,
      "outputs": []
    },
    {
      "cell_type": "code",
      "metadata": {
        "id": "nybEs7jGg7KL"
      },
      "source": [
        "# split X and y into training and testing sets\n",
        "#Here, the Dataset is broken into two parts in a ratio of 8:2.\n",
        "#It means 80% data will be used for model training and 20% for model testing.\n",
        "\n",
        "from sklearn.model_selection import train_test_split\n",
        "X_train, x_test, y_train, y_test=train_test_split(X, y, test_size=0.2, random_state=0)"
      ],
      "execution_count": null,
      "outputs": []
    },
    {
      "cell_type": "code",
      "metadata": {
        "id": "GVDTjHqFjICS"
      },
      "source": [
        "#Logistic-Regression-(classification and accuracy calculation)\n",
        "from sklearn.linear_model import LogisticRegression\n",
        "from sklearn import metrics\n",
        "\n",
        "# instantiate the model (using the default parameters)\n",
        "logreg = LogisticRegression()\n",
        "\n",
        "# fit the model with data\n",
        "logreg.fit(X_train,y_train)\n",
        "\n",
        "y_pred=logreg.predict(x_test)\n",
        "\n",
        "\n",
        "# Model Accuracy,\n",
        "LogisticRegression_Accuracy_Score=metrics.accuracy_score(y_test, y_pred)\n",
        "print(\"Accuracy Score:\",LogisticRegression_Accuracy_Score)\n"
      ],
      "execution_count": null,
      "outputs": []
    },
    {
      "cell_type": "code",
      "metadata": {
        "colab": {
          "base_uri": "https://localhost:8080/"
        },
        "id": "Kn5tAEUHok3Q",
        "outputId": "ddb4aa63-6cae-4211-caba-00d3bd73c2b2"
      },
      "source": [
        "#Decision_Tree_Classifier-(classification and accuracy calculation)\n",
        "from sklearn.tree import DecisionTreeClassifier\n",
        "from sklearn import metrics \n",
        "\n",
        "# Create Decision Tree classifer object\n",
        "DTC = DecisionTreeClassifier()\n",
        "\n",
        "# Train Decision Tree Classifer\n",
        "DTC = DTC.fit(X_train,y_train)\n",
        "\n",
        "#Predict the response for test dataset\n",
        "y_pred = DTC.predict(x_test)\n",
        "\n",
        "# Model Accuracy\n",
        "DecisionTreeClassifier_Accuracy_Score=metrics.accuracy_score(y_test, y_pred)\n",
        "print(\"Accuracy Score:\",DecisionTreeClassifier_Accuracy_Score)\n"
      ],
      "execution_count": null,
      "outputs": [
        {
          "output_type": "stream",
          "text": [
            "Accuracy Score: 0.9122807017543859\n"
          ],
          "name": "stdout"
        }
      ]
    },
    {
      "cell_type": "code",
      "metadata": {
        "id": "NXRjP1Jhsyd_"
      },
      "source": [
        "import matplotlib.pyplot as plt\n",
        "%matplotlib inline\n",
        "plt.rcParams.update({'figure.figsize':(5,3), 'figure.dpi':100})\n",
        "\n",
        "# accuracy comparison  bar chart\n",
        "x=['Logistic Regression','Decision Tree Classifier']\n",
        "y =[LogisticRegression_Accuracy_Score, DecisionTreeClassifier_Accuracy_Score]\n",
        "\n",
        "plt.bar(x,y)\n",
        "plt.xlabel('Categories')\n",
        "plt.ylabel(\"Values\")\n",
        "plt.title('Model Accuracy')\n",
        "plt.show()"
      ],
      "execution_count": null,
      "outputs": []
    },
    {
      "cell_type": "code",
      "metadata": {
        "id": "IfZaFLgLLbpq"
      },
      "source": [
        "#Visualizing Decision Trees\n",
        "\n",
        "from sklearn import tree\n",
        "import matplotlib.pyplot as plt\n",
        "fig, axes = plt.subplots(nrows = 1,ncols = 1,figsize = (4,4), dpi=1200)\n",
        "tree.plot_tree(DTC,\n",
        "               feature_names = X.columns, \n",
        "               class_names=['0','1'],\n",
        "               filled = True);"
      ],
      "execution_count": null,
      "outputs": []
    }
  ]
}